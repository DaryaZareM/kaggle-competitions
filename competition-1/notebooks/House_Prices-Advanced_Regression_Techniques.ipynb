{
  "nbformat": 4,
  "nbformat_minor": 0,
  "metadata": {
    "colab": {
      "provenance": []
    },
    "kernelspec": {
      "name": "python3",
      "display_name": "Python 3"
    },
    "language_info": {
      "name": "python"
    }
  },
  "cells": [
    {
      "cell_type": "markdown",
      "source": [
        "# House Prices: Advanced Regression Techniques - Kaggle Challenge\n",
        "\n",
        "## Introduction\n",
        "In this notebook, we aim to solve the Kaggle challenge: [House Prices - Advanced Regression Techniques](https://www.kaggle.com/competitions/house-prices-advanced-regression-techniques/overview/evaluation). The goal of this competition is to predict the final prices of homes based on various features describing the properties.\n",
        "\n",
        "![](https://storage.googleapis.com/kaggle-media/competitions/House%20Prices/kaggle_5407_media_housesbanner.png)\n",
        "\n",
        "## Dataset Information\n",
        "The dataset consists of a training set and a test set. The training set includes the SalePrice for each house, while the test set omits this value. We will use the training data to train our model and make predictions on the test data.\n",
        "\n",
        "## Objectives\n",
        "1. Preprocess the data: Handle missing values, encode categorical variables, and normalize/standardize numerical variables.\n",
        "2. Train and evaluate multiple regression models: RandomForest, XGBoost, SVC, and Linear Regression.\n",
        "3. Tune hyperparameters to find the best model.\n",
        "4. Make predictions on the test set and save the results.\n",
        "\n",
        "## Dependencies\n",
        "This notebook requires the following libraries:\n",
        "- pandas\n",
        "- numpy\n",
        "- matplotlib\n",
        "- seaborn\n",
        "- scikit-learn\n",
        "- xgboost\n",
        "\n",
        "## Instructions\n",
        "1. Ensure you have all the required libraries installed.\n",
        "2. Download the dataset from the Kaggle competition page and place the `train.csv` and `test.csv` files in the appropriate directory.\n",
        "3. Run the cells in the notebook sequentially to reproduce the results.\n"
      ],
      "metadata": {
        "id": "GfqxLn3W4J30"
      }
    },
    {
      "cell_type": "markdown",
      "source": [
        "# Get Data"
      ],
      "metadata": {
        "id": "BWJMP3dPI32Y"
      }
    },
    {
      "cell_type": "code",
      "source": [
        "!wget -O 'train.csv' 'https://drive.usercontent.google.com/download?id=1U4vlNJWavNO1Itrk4NBohkZBTGSSAwpb&export=download&authuser=0&confirm=t&uuid=642b11fd-74b6-4f1d-ba10-e9771cffadf0&at=APZUnTWLoBBUobckCR3H8mutb9Og:1716188147244'\n",
        "!wget -O 'test.csv' 'https://drive.usercontent.google.com/download?id=1xIvFFq29775oRqzP4Q6d1IrATsv4jqD9&export=download&authuser=0&confirm=t&uuid=642b11fd-74b6-4f1d-ba10-e9771cffadf0&at=APZUnTWLoBBUobckCR3H8mutb9Og:1716188147244'\n"
      ],
      "metadata": {
        "colab": {
          "base_uri": "https://localhost:8080/"
        },
        "collapsed": true,
        "id": "8ZbcWiCIZOxf",
        "outputId": "bb0f17d8-65a3-4057-98aa-bd729cc49635"
      },
      "execution_count": 3,
      "outputs": [
        {
          "output_type": "stream",
          "name": "stdout",
          "text": [
            "--2024-05-20 11:57:43--  https://drive.usercontent.google.com/download?id=1U4vlNJWavNO1Itrk4NBohkZBTGSSAwpb&export=download&authuser=0&confirm=t&uuid=642b11fd-74b6-4f1d-ba10-e9771cffadf0&at=APZUnTWLoBBUobckCR3H8mutb9Og:1716188147244\n",
            "Resolving drive.usercontent.google.com (drive.usercontent.google.com)... 173.194.206.132, 2607:f8b0:4001:c62::84\n",
            "Connecting to drive.usercontent.google.com (drive.usercontent.google.com)|173.194.206.132|:443... connected.\n",
            "HTTP request sent, awaiting response... 200 OK\n",
            "Length: 460676 (450K) [application/octet-stream]\n",
            "Saving to: ‘train.csv’\n",
            "\n",
            "train.csv           100%[===================>] 449.88K  --.-KB/s    in 0.01s   \n",
            "\n",
            "2024-05-20 11:57:44 (45.3 MB/s) - ‘train.csv’ saved [460676/460676]\n",
            "\n",
            "--2024-05-20 11:57:44--  https://drive.usercontent.google.com/download?id=1xIvFFq29775oRqzP4Q6d1IrATsv4jqD9&export=download&authuser=0&confirm=t&uuid=642b11fd-74b6-4f1d-ba10-e9771cffadf0&at=APZUnTWLoBBUobckCR3H8mutb9Og:1716188147244\n",
            "Resolving drive.usercontent.google.com (drive.usercontent.google.com)... 173.194.206.132, 2607:f8b0:4001:c62::84\n",
            "Connecting to drive.usercontent.google.com (drive.usercontent.google.com)|173.194.206.132|:443... connected.\n",
            "HTTP request sent, awaiting response... 200 OK\n",
            "Length: 451405 (441K) [application/octet-stream]\n",
            "Saving to: ‘test.csv’\n",
            "\n",
            "test.csv            100%[===================>] 440.83K  --.-KB/s    in 0.007s  \n",
            "\n",
            "2024-05-20 11:57:44 (62.3 MB/s) - ‘test.csv’ saved [451405/451405]\n",
            "\n"
          ]
        }
      ]
    },
    {
      "cell_type": "code",
      "source": [
        "import pandas as pd\n",
        "from sklearn.model_selection import train_test_split, GridSearchCV\n",
        "from sklearn.preprocessing import StandardScaler, OneHotEncoder\n",
        "from sklearn.compose import ColumnTransformer\n",
        "from sklearn.pipeline import Pipeline\n",
        "from sklearn.impute import SimpleImputer\n",
        "from sklearn.ensemble import RandomForestRegressor\n",
        "from sklearn.linear_model import LinearRegression\n",
        "from sklearn.svm import SVR\n",
        "from xgboost import XGBRegressor\n",
        "from sklearn.metrics import mean_squared_error\n",
        "\n",
        "import matplotlib.pyplot as plt\n",
        "import seaborn as sns\n"
      ],
      "metadata": {
        "id": "5CfFA_UyL-OL"
      },
      "execution_count": 4,
      "outputs": []
    },
    {
      "cell_type": "markdown",
      "source": [
        "# Load training datase"
      ],
      "metadata": {
        "id": "86ngurgB2xus"
      }
    },
    {
      "cell_type": "code",
      "source": [
        "df = pd.read_csv('train.csv')\n",
        "df.info()"
      ],
      "metadata": {
        "colab": {
          "base_uri": "https://localhost:8080/"
        },
        "id": "dq9edil_2p5U",
        "outputId": "92457fea-ab34-4404-f4c7-40d5157c713d"
      },
      "execution_count": 5,
      "outputs": [
        {
          "output_type": "stream",
          "name": "stdout",
          "text": [
            "<class 'pandas.core.frame.DataFrame'>\n",
            "RangeIndex: 1460 entries, 0 to 1459\n",
            "Data columns (total 81 columns):\n",
            " #   Column         Non-Null Count  Dtype  \n",
            "---  ------         --------------  -----  \n",
            " 0   Id             1460 non-null   int64  \n",
            " 1   MSSubClass     1460 non-null   int64  \n",
            " 2   MSZoning       1460 non-null   object \n",
            " 3   LotFrontage    1201 non-null   float64\n",
            " 4   LotArea        1460 non-null   int64  \n",
            " 5   Street         1460 non-null   object \n",
            " 6   Alley          91 non-null     object \n",
            " 7   LotShape       1460 non-null   object \n",
            " 8   LandContour    1460 non-null   object \n",
            " 9   Utilities      1460 non-null   object \n",
            " 10  LotConfig      1460 non-null   object \n",
            " 11  LandSlope      1460 non-null   object \n",
            " 12  Neighborhood   1460 non-null   object \n",
            " 13  Condition1     1460 non-null   object \n",
            " 14  Condition2     1460 non-null   object \n",
            " 15  BldgType       1460 non-null   object \n",
            " 16  HouseStyle     1460 non-null   object \n",
            " 17  OverallQual    1460 non-null   int64  \n",
            " 18  OverallCond    1460 non-null   int64  \n",
            " 19  YearBuilt      1460 non-null   int64  \n",
            " 20  YearRemodAdd   1460 non-null   int64  \n",
            " 21  RoofStyle      1460 non-null   object \n",
            " 22  RoofMatl       1460 non-null   object \n",
            " 23  Exterior1st    1460 non-null   object \n",
            " 24  Exterior2nd    1460 non-null   object \n",
            " 25  MasVnrType     588 non-null    object \n",
            " 26  MasVnrArea     1452 non-null   float64\n",
            " 27  ExterQual      1460 non-null   object \n",
            " 28  ExterCond      1460 non-null   object \n",
            " 29  Foundation     1460 non-null   object \n",
            " 30  BsmtQual       1423 non-null   object \n",
            " 31  BsmtCond       1423 non-null   object \n",
            " 32  BsmtExposure   1422 non-null   object \n",
            " 33  BsmtFinType1   1423 non-null   object \n",
            " 34  BsmtFinSF1     1460 non-null   int64  \n",
            " 35  BsmtFinType2   1422 non-null   object \n",
            " 36  BsmtFinSF2     1460 non-null   int64  \n",
            " 37  BsmtUnfSF      1460 non-null   int64  \n",
            " 38  TotalBsmtSF    1460 non-null   int64  \n",
            " 39  Heating        1460 non-null   object \n",
            " 40  HeatingQC      1460 non-null   object \n",
            " 41  CentralAir     1460 non-null   object \n",
            " 42  Electrical     1459 non-null   object \n",
            " 43  1stFlrSF       1460 non-null   int64  \n",
            " 44  2ndFlrSF       1460 non-null   int64  \n",
            " 45  LowQualFinSF   1460 non-null   int64  \n",
            " 46  GrLivArea      1460 non-null   int64  \n",
            " 47  BsmtFullBath   1460 non-null   int64  \n",
            " 48  BsmtHalfBath   1460 non-null   int64  \n",
            " 49  FullBath       1460 non-null   int64  \n",
            " 50  HalfBath       1460 non-null   int64  \n",
            " 51  BedroomAbvGr   1460 non-null   int64  \n",
            " 52  KitchenAbvGr   1460 non-null   int64  \n",
            " 53  KitchenQual    1460 non-null   object \n",
            " 54  TotRmsAbvGrd   1460 non-null   int64  \n",
            " 55  Functional     1460 non-null   object \n",
            " 56  Fireplaces     1460 non-null   int64  \n",
            " 57  FireplaceQu    770 non-null    object \n",
            " 58  GarageType     1379 non-null   object \n",
            " 59  GarageYrBlt    1379 non-null   float64\n",
            " 60  GarageFinish   1379 non-null   object \n",
            " 61  GarageCars     1460 non-null   int64  \n",
            " 62  GarageArea     1460 non-null   int64  \n",
            " 63  GarageQual     1379 non-null   object \n",
            " 64  GarageCond     1379 non-null   object \n",
            " 65  PavedDrive     1460 non-null   object \n",
            " 66  WoodDeckSF     1460 non-null   int64  \n",
            " 67  OpenPorchSF    1460 non-null   int64  \n",
            " 68  EnclosedPorch  1460 non-null   int64  \n",
            " 69  3SsnPorch      1460 non-null   int64  \n",
            " 70  ScreenPorch    1460 non-null   int64  \n",
            " 71  PoolArea       1460 non-null   int64  \n",
            " 72  PoolQC         7 non-null      object \n",
            " 73  Fence          281 non-null    object \n",
            " 74  MiscFeature    54 non-null     object \n",
            " 75  MiscVal        1460 non-null   int64  \n",
            " 76  MoSold         1460 non-null   int64  \n",
            " 77  YrSold         1460 non-null   int64  \n",
            " 78  SaleType       1460 non-null   object \n",
            " 79  SaleCondition  1460 non-null   object \n",
            " 80  SalePrice      1460 non-null   int64  \n",
            "dtypes: float64(3), int64(35), object(43)\n",
            "memory usage: 924.0+ KB\n"
          ]
        }
      ]
    },
    {
      "cell_type": "code",
      "source": [
        "plt.figure(figsize=(9, 25))\n",
        "sns.displot(df['SalePrice'], bins=100);"
      ],
      "metadata": {
        "colab": {
          "base_uri": "https://localhost:8080/",
          "height": 523
        },
        "id": "xSSBqe6I3Nw0",
        "outputId": "7ebf463d-2d6d-415c-9223-1ecb080c0716"
      },
      "execution_count": 18,
      "outputs": [
        {
          "output_type": "display_data",
          "data": {
            "text/plain": [
              "<Figure size 900x2500 with 0 Axes>"
            ]
          },
          "metadata": {}
        },
        {
          "output_type": "display_data",
          "data": {
            "text/plain": [
              "<Figure size 500x500 with 1 Axes>"
            ],
            "image/png": "[encoded data removed]"
          },
          "metadata": {}
        }
      ]
    },
    {
      "cell_type": "code",
      "source": [
        "X = df.drop(columns=['SalePrice'])\n",
        "y = df['SalePrice']\n",
        "\n",
        "\n",
        "categorical_cols = X.select_dtypes(include=['object']).columns\n",
        "numeric_cols = X.select_dtypes(include=['number']).columns\n"
      ],
      "metadata": {
        "id": "QxHa02jQ2-Wg"
      },
      "execution_count": null,
      "outputs": []
    },
    {
      "cell_type": "markdown",
      "source": [
        "# Preprocessing"
      ],
      "metadata": {
        "id": "NsocOFOH2_Bx"
      }
    },
    {
      "cell_type": "code",
      "source": [
        "numeric_transformer = Pipeline(steps=[\n",
        "    ('imputer', SimpleImputer(strategy='median')),\n",
        "    ('scaler', StandardScaler())\n",
        "])\n",
        "\n",
        "\n",
        "categorical_transformer = Pipeline(steps=[\n",
        "    ('imputer', SimpleImputer(strategy='constant', fill_value='NA')),\n",
        "    ('onehot', OneHotEncoder(handle_unknown='ignore'))\n",
        "])"
      ],
      "metadata": {
        "id": "0mkJ1X9Z3BPC"
      },
      "execution_count": null,
      "outputs": []
    },
    {
      "cell_type": "code",
      "source": [
        "# Bundle preprocessing for numeric and categorical data\n",
        "preprocessor = ColumnTransformer(\n",
        "    transformers=[\n",
        "        ('num', numeric_transformer, numeric_cols),\n",
        "        ('cat', categorical_transformer, categorical_cols)\n",
        "    ])"
      ],
      "metadata": {
        "id": "xGgFDKx-bnfm"
      },
      "execution_count": null,
      "outputs": []
    },
    {
      "cell_type": "markdown",
      "source": [
        "# Define the model"
      ],
      "metadata": {
        "id": "I2nsxc6P2Yt8"
      }
    },
    {
      "cell_type": "code",
      "source": [
        "\n",
        "models = {\n",
        "    'RandomForest': RandomForestRegressor(),\n",
        "    'XGBoost': XGBRegressor(),\n",
        "    'SVC': SVR(),\n",
        "    'LinearRegression': LinearRegression()\n",
        "}\n",
        "\n",
        "\n",
        "param_grids = {\n",
        "    'RandomForest': {\n",
        "        'model__n_estimators': [100, 200],\n",
        "        'model__max_features': ['auto', 'sqrt', 'log2']\n",
        "    },\n",
        "    'XGBoost': {\n",
        "        'model__n_estimators': [100, 200],\n",
        "        'model__learning_rate': [0.01, 0.1]\n",
        "    },\n",
        "    'SVC': {\n",
        "        'model__C': [0.1, 1, 10],\n",
        "        'model__kernel': ['linear', 'poly', 'rbf']\n",
        "    },\n",
        "    'LinearRegression': {\n",
        "        'model__fit_intercept': [True, False]\n",
        "    }\n",
        "}\n",
        "\n",
        "#GridSearchCV\n",
        "best_model = None\n",
        "best_rmse = float('inf')\n",
        "best_params = None\n",
        "\n",
        "for model_name, model in models.items():\n",
        "    pipeline = Pipeline(steps=[('preprocessor', preprocessor), ('model', model)])\n",
        "    param_grid = param_grids[model_name]\n",
        "    grid_search = GridSearchCV(pipeline, param_grid, cv=5, scoring='neg_mean_squared_error')\n",
        "    grid_search.fit(X, y)\n",
        "\n",
        "    if grid_search.best_score_ < best_rmse:\n",
        "        best_rmse = grid_search.best_score_\n",
        "        best_model = grid_search.best_estimator_\n",
        "        best_params = grid_search.best_params_\n",
        "\n",
        "print(f'Best Model: {best_model}')\n",
        "print(f'Best Parameters: {best_params}')\n",
        "print(f'Best RMSE: {-best_rmse ** 0.5}')\n"
      ],
      "metadata": {
        "colab": {
          "base_uri": "https://localhost:8080/"
        },
        "collapsed": true,
        "id": "DlgcCj9nRE_Y",
        "outputId": "b6a79453-daa6-4536-902d-21edfb018cdc"
      },
      "execution_count": 80,
      "outputs": [
        {
          "output_type": "stream",
          "name": "stderr",
          "text": [
            "/usr/local/lib/python3.10/dist-packages/sklearn/ensemble/_forest.py:413: FutureWarning: `max_features='auto'` has been deprecated in 1.1 and will be removed in 1.3. To keep the past behaviour, explicitly set `max_features=1.0` or remove this parameter as it is also the default value for RandomForestRegressors and ExtraTreesRegressors.\n",
            "  warn(\n",
            "/usr/local/lib/python3.10/dist-packages/sklearn/ensemble/_forest.py:413: FutureWarning: `max_features='auto'` has been deprecated in 1.1 and will be removed in 1.3. To keep the past behaviour, explicitly set `max_features=1.0` or remove this parameter as it is also the default value for RandomForestRegressors and ExtraTreesRegressors.\n",
            "  warn(\n",
            "/usr/local/lib/python3.10/dist-packages/sklearn/ensemble/_forest.py:413: FutureWarning: `max_features='auto'` has been deprecated in 1.1 and will be removed in 1.3. To keep the past behaviour, explicitly set `max_features=1.0` or remove this parameter as it is also the default value for RandomForestRegressors and ExtraTreesRegressors.\n",
            "  warn(\n",
            "/usr/local/lib/python3.10/dist-packages/sklearn/ensemble/_forest.py:413: FutureWarning: `max_features='auto'` has been deprecated in 1.1 and will be removed in 1.3. To keep the past behaviour, explicitly set `max_features=1.0` or remove this parameter as it is also the default value for RandomForestRegressors and ExtraTreesRegressors.\n",
            "  warn(\n",
            "/usr/local/lib/python3.10/dist-packages/sklearn/ensemble/_forest.py:413: FutureWarning: `max_features='auto'` has been deprecated in 1.1 and will be removed in 1.3. To keep the past behaviour, explicitly set `max_features=1.0` or remove this parameter as it is also the default value for RandomForestRegressors and ExtraTreesRegressors.\n",
            "  warn(\n",
            "/usr/local/lib/python3.10/dist-packages/sklearn/ensemble/_forest.py:413: FutureWarning: `max_features='auto'` has been deprecated in 1.1 and will be removed in 1.3. To keep the past behaviour, explicitly set `max_features=1.0` or remove this parameter as it is also the default value for RandomForestRegressors and ExtraTreesRegressors.\n",
            "  warn(\n",
            "/usr/local/lib/python3.10/dist-packages/sklearn/ensemble/_forest.py:413: FutureWarning: `max_features='auto'` has been deprecated in 1.1 and will be removed in 1.3. To keep the past behaviour, explicitly set `max_features=1.0` or remove this parameter as it is also the default value for RandomForestRegressors and ExtraTreesRegressors.\n",
            "  warn(\n",
            "/usr/local/lib/python3.10/dist-packages/sklearn/ensemble/_forest.py:413: FutureWarning: `max_features='auto'` has been deprecated in 1.1 and will be removed in 1.3. To keep the past behaviour, explicitly set `max_features=1.0` or remove this parameter as it is also the default value for RandomForestRegressors and ExtraTreesRegressors.\n",
            "  warn(\n",
            "/usr/local/lib/python3.10/dist-packages/sklearn/ensemble/_forest.py:413: FutureWarning: `max_features='auto'` has been deprecated in 1.1 and will be removed in 1.3. To keep the past behaviour, explicitly set `max_features=1.0` or remove this parameter as it is also the default value for RandomForestRegressors and ExtraTreesRegressors.\n",
            "  warn(\n",
            "/usr/local/lib/python3.10/dist-packages/sklearn/ensemble/_forest.py:413: FutureWarning: `max_features='auto'` has been deprecated in 1.1 and will be removed in 1.3. To keep the past behaviour, explicitly set `max_features=1.0` or remove this parameter as it is also the default value for RandomForestRegressors and ExtraTreesRegressors.\n",
            "  warn(\n",
            "/usr/local/lib/python3.10/dist-packages/sklearn/ensemble/_forest.py:413: FutureWarning: `max_features='auto'` has been deprecated in 1.1 and will be removed in 1.3. To keep the past behaviour, explicitly set `max_features=1.0` or remove this parameter as it is also the default value for RandomForestRegressors and ExtraTreesRegressors.\n",
            "  warn(\n"
          ]
        },
        {
          "output_type": "stream",
          "name": "stdout",
          "text": [
            "Best Model: Pipeline(steps=[('preprocessor',\n",
            "                 ColumnTransformer(transformers=[('num',\n",
            "                                                  Pipeline(steps=[('imputer',\n",
            "                                                                   SimpleImputer(strategy='median')),\n",
            "                                                                  ('scaler',\n",
            "                                                                   StandardScaler())]),\n",
            "                                                  Index(['Id', 'MSSubClass', 'LotFrontage', 'LotArea', 'OverallQual',\n",
            "       'OverallCond', 'YearBuilt', 'YearRemodAdd', 'MasVnrArea', 'BsmtFinSF1',\n",
            "       'BsmtFinSF2', 'BsmtUnfSF', 'TotalBsmtSF', '1stFlrSF', '2ndFlrS...\n",
            "       'Exterior2nd', 'MasVnrType', 'ExterQual', 'ExterCond', 'Foundation',\n",
            "       'BsmtQual', 'BsmtCond', 'BsmtExposure', 'BsmtFinType1', 'BsmtFinType2',\n",
            "       'Heating', 'HeatingQC', 'CentralAir', 'Electrical', 'KitchenQual',\n",
            "       'Functional', 'FireplaceQu', 'GarageType', 'GarageFinish', 'GarageQual',\n",
            "       'GarageCond', 'PavedDrive', 'PoolQC', 'Fence', 'MiscFeature',\n",
            "       'SaleType', 'SaleCondition'],\n",
            "      dtype='object'))])),\n",
            "                ('model', SVR(C=10, kernel='linear'))])\n",
            "Best Parameters: {'model__C': 10, 'model__kernel': 'linear'}\n",
            "Best RMSE: nan\n"
          ]
        },
        {
          "output_type": "stream",
          "name": "stderr",
          "text": [
            "<ipython-input-80-05216cb730c5>:76: RuntimeWarning: invalid value encountered in scalar power\n",
            "  print(f'Best RMSE: {-best_rmse ** 0.5}')\n"
          ]
        },
        {
          "output_type": "stream",
          "name": "stdout",
          "text": [
            "Predictions saved to result.csv\n"
          ]
        }
      ]
    },
    {
      "cell_type": "markdown",
      "source": [
        "# Load test dataset"
      ],
      "metadata": {
        "id": "VOfiq92N2kp9"
      }
    },
    {
      "cell_type": "code",
      "source": [
        "test_df = pd.read_csv('test.csv')\n",
        "\n",
        "predictions = best_model.predict(test_df)"
      ],
      "metadata": {
        "id": "7eH5r6aM2idv"
      },
      "execution_count": null,
      "outputs": []
    },
    {
      "cell_type": "code",
      "source": [
        "output = pd.DataFrame({'Id': test_df.Id,\n",
        "                       'SalePrice': predictions})\n",
        "\n",
        "\n",
        "output.to_csv('result.csv',index=False)"
      ],
      "metadata": {
        "id": "vOgygnkwTcS9"
      },
      "execution_count": 83,
      "outputs": []
    }
  ]
}